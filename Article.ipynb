{
 "cells": [
  {
   "cell_type": "markdown",
   "id": "64f5dfd8-73e6-47ac-b2f9-17e75676be40",
   "metadata": {
    "tags": []
   },
   "source": [
    "<h1>Using Python to Calculate Geographic Distances</h1>"
   ]
  },
  {
   "cell_type": "markdown",
   "id": "70af815e-02cc-4838-ba87-28e30a135b41",
   "metadata": {},
   "source": [
    "This article will provide a walkthrough for how to use API calls, built-in, and custom functions to match a list of charities (Point A) to their nearest rail station (Point B) and calculate the distance in miles and drive time in minutes."
   ]
  },
  {
   "cell_type": "markdown",
   "id": "0b4e452b-302e-4f67-9b88-b0f3b7b8b02a",
   "metadata": {},
   "source": [
    "Other use cases include, as examples:\n",
    "- Matching postcode to nearest school\n",
    "- Matching postcode to nearest charity\n",
    "- Matching postcode to nearest NHS provider\n",
    "- Matching postcode to nearest national park\n",
    "- Matching postcode in list A to nearest postcode in list B"
   ]
  },
  {
   "cell_type": "markdown",
   "id": "16cc5072-b6c4-4850-9735-69a4627dc408",
   "metadata": {
    "tags": []
   },
   "source": [
    "<h2>Requirements</h2>"
   ]
  },
  {
   "cell_type": "markdown",
   "id": "2044801f-8ea7-4c81-9598-7927027b9ed9",
   "metadata": {},
   "source": [
    "Packages:\n",
    "- pandas\n",
    "- numpy\n",
    "- requests\n",
    "- json\n",
    "- haversine"
   ]
  },
  {
   "cell_type": "markdown",
   "id": "a3e7775c-f6b4-4b0e-ac9f-6e144d9656b3",
   "metadata": {},
   "source": [
    "Resources used in this article:\n",
    "- Charity data (for this example, I have selected the first 100 charities from an extract of charities with expenditure over 5M from the [charity commission register](https://register-of-charities.charitycommission.gov.uk/))\n",
    "- UK train station data (as this is not readily available, I have used a [github document](https://github.com/ellcom/UK-Train-Station-Locations/blob/master/uk-train-stations-dictonary.json) containing UK train stations and their longitude, latitude and postcode)\n",
    "- Postcodes.io (an [API](https://postcodes.io/docs) to search and extract UK postcode data)\n",
    "- Project OSRM (an [API](https://project-osrm.org/docs/v5.24.0/api/#trip-service) for calculating routes)"
   ]
  },
  {
   "cell_type": "markdown",
   "id": "3d9d2d82-d8da-43d7-a219-e937ea04dd51",
   "metadata": {
    "tags": []
   },
   "source": [
    "<h2>Why Use Python?</h2>"
   ]
  },
  {
   "cell_type": "markdown",
   "id": "789889dd-5671-4906-87ff-24b7561337ea",
   "metadata": {},
   "source": [
    "The steps discussed here may seem intricate and complicated, but the end result is a template that can be reused and reformatted to match your needs when looking to calculate geographic distances between point A and point B for several rows of data."
   ]
  },
  {
   "cell_type": "markdown",
   "id": "91cec5cc-f5a2-4ece-8cce-e241d98d704a",
   "metadata": {},
   "source": [
    "Let's say you are working with 100 charities, for example. You would like to know how close these charities are to nearby rail stations as part of wider analysis of the geography of these charities. It may be the case that you want to visually map this data, or use it as a starting point for further analysis, such as looking into accessibility of attending the charity from a far away location.\n",
    "<br><br>\n",
    "Whatever the use case, if you wanted to manually do this, your steps would be as follows:\n",
    "\n",
    "1. Find the charity postcode \n",
    "2. Use an online tool to check the nearest station to the charity\n",
    "3. Use an online map tool to find the distance in miles and the driving time for travelling from the charity to the nearest station\n",
    "4. Record the results in a spreadsheet\n",
    "5. Repeat steps 1 to 4 for the remaining 99 charities"
   ]
  },
  {
   "cell_type": "markdown",
   "id": "d12b3aaa-678b-4ba9-a33b-2a3cf588572a",
   "metadata": {},
   "source": [
    "This may be effective for a handful of charities, but after a while the process will be time-consuming, tedious, and prone to human error.\n",
    "<br><br>\n",
    "By using Python to complete this task, we can automate the steps and with only a few additions required by the user, simply run our code at the end. "
   ]
  },
  {
   "cell_type": "markdown",
   "id": "e5828141-9fda-4768-ae7c-5ccffdc6bb99",
   "metadata": {},
   "source": [
    "<h3>What Can Python Do?</h3>"
   ]
  },
  {
   "cell_type": "markdown",
   "id": "1384aaeb-0b1f-4d1c-86a3-0d54aa2de9fa",
   "metadata": {},
   "source": [
    "Let's break down the task into steps. Our required steps here are as follows:\n",
    "1. Find the nearest station to a given postcode\n",
    "2. Calculate the distance between the two \n",
    "3. Calculate the driving time for travel\n",
    "4. Produce a dataset containing all the required information"
   ]
  },
  {
   "cell_type": "markdown",
   "id": "16583eb4-2407-4dbd-8aee-dbda39b32c50",
   "metadata": {},
   "source": [
    "To complete step 1, we will use Python to:\n",
    "- import our dataset containing the charity's details, including its postcode\n",
    "- use the Postcodes.io API to extract the longitde and latitude for each postcode\n",
    "- compile this information back into a dataframe containing the original information, plus longitude and latitude for each charity."
   ]
  },
  {
   "cell_type": "markdown",
   "id": "e3bf6f8e-6607-4b78-b50c-d98de14f2c30",
   "metadata": {},
   "source": [
    "<h2>Step 1: Find the nearest station to a given postcode</h2>"
   ]
  },
  {
   "cell_type": "markdown",
   "id": "e2fdf830-6db3-4d1d-b87e-91f5b078276e",
   "metadata": {},
   "source": [
    "1 - import packages"
   ]
  },
  {
   "cell_type": "code",
   "execution_count": 1,
   "id": "3c3f64c2-6446-439f-ae42-1ef9c6b1f1ec",
   "metadata": {
    "tags": []
   },
   "outputs": [],
   "source": [
    "# data manipulation\n",
    "import numpy as np\n",
    "import pandas as pd\n",
    "\n",
    "# http requests\n",
    "import requests\n",
    "\n",
    "# handling json\n",
    "import json\n",
    "\n",
    "# calculating distances\n",
    "import haversine as hs\n",
    "from haversine import haversine, Unit"
   ]
  },
  {
   "cell_type": "markdown",
   "id": "ff95c534-e4b7-4fe4-a293-b17b36363873",
   "metadata": {},
   "source": [
    "2 - import data and clean the dataframe in preparation for the next step"
   ]
  },
  {
   "cell_type": "code",
   "execution_count": 2,
   "id": "97b21eb4-0aa6-4585-8251-8bb0d2fa7080",
   "metadata": {
    "tags": []
   },
   "outputs": [],
   "source": [
    "# import as a pandas dataframe, specifying which columns to import\n",
    "charities = pd.read_excel('charity_list.xlsx', usecols='A, C, E')\n",
    "stations = pd.read_csv('uk-train-stations.csv', usecols=[1,2,3])\n",
    "\n",
    "# renaming stations columns for ease of use\n",
    "stations = stations.rename(columns={'station_name':'Station Name','latitude':'Station Latitude', 'longitude':'Station Longitude'})"
   ]
  },
  {
   "cell_type": "markdown",
   "id": "a82eec1a-b384-4bfd-9724-4a38802f0824",
   "metadata": {},
   "source": [
    "<blockquote>Our variable containing our charity dataset, named 'charities', will be our master dataframe, which we will use as we go along to merge with the data we extract. \n",
    "<br><br>\n",
    "For now, our next step is to create our function for extracting longitude and latitude for our charities' postcodes."
   ]
  },
  {
   "cell_type": "markdown",
   "id": "d1a27a72-3396-4c10-ae97-13cafb47382b",
   "metadata": {
    "tags": []
   },
   "source": [
    "3 - convert postcodes into list to be used in function"
   ]
  },
  {
   "cell_type": "code",
   "execution_count": 3,
   "id": "d458db9c-9a0f-4923-b0b9-2ceca06e3225",
   "metadata": {
    "tags": []
   },
   "outputs": [],
   "source": [
    "charities_pc = charities['Charity Postcode'].tolist()"
   ]
  },
  {
   "cell_type": "markdown",
   "id": "2a87ae01-c932-43c9-ba9f-358b54ea27d8",
   "metadata": {},
   "source": [
    "4 - create a function that takes a postcode, makes a request to postcodes.io, records the latitude and longitude, and returns the data into a new dataframe. \n",
    "<br><br><em>for further info, please consult the postcodes.io [documentation](https://postcodes.io/docs)</em>"
   ]
  },
  {
   "cell_type": "code",
   "execution_count": 4,
   "id": "835abc78-0f8b-43b9-8fe3-b197e3070369",
   "metadata": {
    "tags": []
   },
   "outputs": [],
   "source": [
    "def bulk_pc_lookup(postcodes):\n",
    "    \n",
    "    # set up the api request\n",
    "    url = \"https://api.postcodes.io/postcodes\"\n",
    "    headers = {\"Content-Type\": \"application/json\"}\n",
    "    \n",
    "    # specify our input data and response, specifying that we are working with data in json format\n",
    "    data = {\"postcodes\": postcodes}\n",
    "    response = requests.post(url, headers=headers, data=json.dumps(data))\n",
    "    \n",
    "    # specify the information we want to extract from the api response\n",
    "    \n",
    "    if response.status_code == 200:\n",
    "        results = response.json()[\"result\"]\n",
    "        postcode_data = []\n",
    "        \n",
    "        for result in results:\n",
    "            postcode = result[\"query\"]\n",
    "            \n",
    "            if result[\"result\"] is not None:\n",
    "                latitude = result[\"result\"][\"latitude\"]\n",
    "                longitude = result[\"result\"][\"longitude\"]\n",
    "                postcode_data.append({\"Charity Postcode\": postcode, \"Latitude\": latitude, \"Longitude\": longitude})\n",
    "        \n",
    "        return postcode_data\n",
    "    \n",
    "    # setting up a fail safe to capture any errors or results not found\n",
    "    else:\n",
    "        print(f\"Error: {response.status_code}\")\n",
    "        return []"
   ]
  },
  {
   "cell_type": "markdown",
   "id": "8a39f426-8420-4ca4-bbc5-70eb22eca403",
   "metadata": {},
   "source": [
    "5 - pass our charity postcode list into the function to extract the desired results"
   ]
  },
  {
   "cell_type": "code",
   "execution_count": 5,
   "id": "2e406363-b1bc-45c3-a672-544405cac7b6",
   "metadata": {
    "tags": []
   },
   "outputs": [],
   "source": [
    "# specify where the postcodes are\n",
    "postcodes = charities_pc\n",
    "\n",
    "# save the results of the function as output\n",
    "output = bulk_pc_lookup(postcodes)\n",
    "\n",
    "# convert the results to a pandas dataframe\n",
    "output_df = pd.DataFrame(output)"
   ]
  },
  {
   "cell_type": "code",
   "execution_count": 6,
   "id": "d1b9c4bc-b13b-4473-a4aa-407c069ed7c1",
   "metadata": {
    "tags": []
   },
   "outputs": [
    {
     "data": {
      "text/html": [
       "<div>\n",
       "<style scoped>\n",
       "    .dataframe tbody tr th:only-of-type {\n",
       "        vertical-align: middle;\n",
       "    }\n",
       "\n",
       "    .dataframe tbody tr th {\n",
       "        vertical-align: top;\n",
       "    }\n",
       "\n",
       "    .dataframe thead th {\n",
       "        text-align: right;\n",
       "    }\n",
       "</style>\n",
       "<table border=\"1\" class=\"dataframe\">\n",
       "  <thead>\n",
       "    <tr style=\"text-align: right;\">\n",
       "      <th></th>\n",
       "      <th>Charity Postcode</th>\n",
       "      <th>Latitude</th>\n",
       "      <th>Longitude</th>\n",
       "    </tr>\n",
       "  </thead>\n",
       "  <tbody>\n",
       "    <tr>\n",
       "      <th>0</th>\n",
       "      <td>CV3 2UB</td>\n",
       "      <td>52.402150</td>\n",
       "      <td>-1.443687</td>\n",
       "    </tr>\n",
       "    <tr>\n",
       "      <th>1</th>\n",
       "      <td>DT2 7AA</td>\n",
       "      <td>50.755335</td>\n",
       "      <td>-2.475479</td>\n",
       "    </tr>\n",
       "    <tr>\n",
       "      <th>2</th>\n",
       "      <td>GU7 2QH</td>\n",
       "      <td>51.188131</td>\n",
       "      <td>-0.622608</td>\n",
       "    </tr>\n",
       "    <tr>\n",
       "      <th>3</th>\n",
       "      <td>N7 8JG</td>\n",
       "      <td>51.549665</td>\n",
       "      <td>-0.108049</td>\n",
       "    </tr>\n",
       "    <tr>\n",
       "      <th>4</th>\n",
       "      <td>B91 2QJ</td>\n",
       "      <td>52.416236</td>\n",
       "      <td>-1.766592</td>\n",
       "    </tr>\n",
       "  </tbody>\n",
       "</table>\n",
       "</div>"
      ],
      "text/plain": [
       "  Charity Postcode   Latitude  Longitude\n",
       "0          CV3 2UB  52.402150  -1.443687\n",
       "1          DT2 7AA  50.755335  -2.475479\n",
       "2          GU7 2QH  51.188131  -0.622608\n",
       "3           N7 8JG  51.549665  -0.108049\n",
       "4          B91 2QJ  52.416236  -1.766592"
      ]
     },
     "execution_count": 6,
     "metadata": {},
     "output_type": "execute_result"
    }
   ],
   "source": [
    "output_df.head()"
   ]
  },
  {
   "cell_type": "markdown",
   "id": "feb1a96c-3c37-4da3-9645-fec212325202",
   "metadata": {},
   "source": [
    "please note: \n",
    "1. if your Point B data (in this case, the UK rail stations) does not already contain latitude and longitude, you will need to also performs steps 3 to 5 on the Point B data as well\n",
    "2. postcodes.io allows bulk look up requests for up to 100 postcodes at a time. if your dataset contains more than 100 postcodes, you will need to either manually create new excel sheets containing only 100 rows per sheet, or you will need to write a function to break your dataset into the required length for the API call"
   ]
  },
  {
   "cell_type": "markdown",
   "id": "92062ca4-fb59-4e0e-b716-02bce5cd475b",
   "metadata": {},
   "source": [
    "6 - we can now either merge our output_df with our original charity dataset, or, to leave our original data untouched, create a new dataframe that we will use for the rest of the project for our extracted results"
   ]
  },
  {
   "cell_type": "code",
   "execution_count": 7,
   "id": "f3258ed9-6a14-4837-8bc2-bb0f1c75fdcb",
   "metadata": {
    "tags": []
   },
   "outputs": [],
   "source": [
    "charities_output = pd.merge(charities, output_df, on=\"Charity Postcode\")"
   ]
  },
  {
   "cell_type": "code",
   "execution_count": 8,
   "id": "a31b2c24-d389-487e-8e6d-50fab4f55445",
   "metadata": {
    "tags": []
   },
   "outputs": [
    {
     "data": {
      "text/html": [
       "<div>\n",
       "<style scoped>\n",
       "    .dataframe tbody tr th:only-of-type {\n",
       "        vertical-align: middle;\n",
       "    }\n",
       "\n",
       "    .dataframe tbody tr th {\n",
       "        vertical-align: top;\n",
       "    }\n",
       "\n",
       "    .dataframe thead th {\n",
       "        text-align: right;\n",
       "    }\n",
       "</style>\n",
       "<table border=\"1\" class=\"dataframe\">\n",
       "  <thead>\n",
       "    <tr style=\"text-align: right;\">\n",
       "      <th></th>\n",
       "      <th>Charity Number</th>\n",
       "      <th>Charity Name</th>\n",
       "      <th>Charity Postcode</th>\n",
       "      <th>Latitude</th>\n",
       "      <th>Longitude</th>\n",
       "    </tr>\n",
       "  </thead>\n",
       "  <tbody>\n",
       "    <tr>\n",
       "      <th>0</th>\n",
       "      <td>200198</td>\n",
       "      <td>THE 29TH MAY 1961 CHARITY</td>\n",
       "      <td>CV3 2UB</td>\n",
       "      <td>52.402150</td>\n",
       "      <td>-1.443687</td>\n",
       "    </tr>\n",
       "    <tr>\n",
       "      <th>1</th>\n",
       "      <td>200222</td>\n",
       "      <td>DORSET WILDLIFE TRUST</td>\n",
       "      <td>DT2 7AA</td>\n",
       "      <td>50.755335</td>\n",
       "      <td>-2.475479</td>\n",
       "    </tr>\n",
       "    <tr>\n",
       "      <th>2</th>\n",
       "      <td>200359</td>\n",
       "      <td>MEATH EPILEPSY CHARITY</td>\n",
       "      <td>GU7 2QH</td>\n",
       "      <td>51.188131</td>\n",
       "      <td>-0.622608</td>\n",
       "    </tr>\n",
       "    <tr>\n",
       "      <th>3</th>\n",
       "      <td>200453</td>\n",
       "      <td>THE RICHMOND FELLOWSHIP</td>\n",
       "      <td>N7 8JG</td>\n",
       "      <td>51.549665</td>\n",
       "      <td>-0.108049</td>\n",
       "    </tr>\n",
       "    <tr>\n",
       "      <th>4</th>\n",
       "      <td>200719</td>\n",
       "      <td>THE ABBEYFIELD SOCIETY</td>\n",
       "      <td>B91 2QJ</td>\n",
       "      <td>52.416236</td>\n",
       "      <td>-1.766592</td>\n",
       "    </tr>\n",
       "  </tbody>\n",
       "</table>\n",
       "</div>"
      ],
      "text/plain": [
       "   Charity Number               Charity Name Charity Postcode   Latitude  \\\n",
       "0          200198  THE 29TH MAY 1961 CHARITY          CV3 2UB  52.402150   \n",
       "1          200222      DORSET WILDLIFE TRUST          DT2 7AA  50.755335   \n",
       "2          200359     MEATH EPILEPSY CHARITY          GU7 2QH  51.188131   \n",
       "3          200453    THE RICHMOND FELLOWSHIP           N7 8JG  51.549665   \n",
       "4          200719     THE ABBEYFIELD SOCIETY          B91 2QJ  52.416236   \n",
       "\n",
       "   Longitude  \n",
       "0  -1.443687  \n",
       "1  -2.475479  \n",
       "2  -0.622608  \n",
       "3  -0.108049  \n",
       "4  -1.766592  "
      ]
     },
     "execution_count": 8,
     "metadata": {},
     "output_type": "execute_result"
    }
   ],
   "source": [
    "charities_output.head()"
   ]
  },
  {
   "cell_type": "markdown",
   "id": "73b8b915-b7c5-42c5-aed7-4ade374a6155",
   "metadata": {},
   "source": [
    "<b>Step 1 Complete</b>"
   ]
  },
  {
   "cell_type": "markdown",
   "id": "fa153f03-19da-4ef8-90c0-373212a4c215",
   "metadata": {},
   "source": [
    "We now have two dataframes which we will use for the next steps:\n",
    "1. Our original stations dataframe containing the UK train stations latitude and longitude\n",
    "2. Our new charities_output dataframe containing the original charity information and the new latitude and longitude information extracted from our API call"
   ]
  },
  {
   "cell_type": "markdown",
   "id": "b616b291-cf49-45eb-a770-6bbb70d5a647",
   "metadata": {},
   "source": [
    "<h2>Step 2 - Calculate the distance between Point A (charity) and Point B (train station), and record the nearest result for Point A</h2>"
   ]
  },
  {
   "cell_type": "markdown",
   "id": "438db0fc-0981-48ee-87d2-9101a55aa22e",
   "metadata": {},
   "source": [
    "In this section, we will be using the haversine distance formula to:\n",
    "- check the distance between a charity and every UK train station \n",
    "- match the nearest result i.e. the UK train station with the minimum distance from our charity\n",
    "- loop over our charities dataset to find the nearest match for each row\n",
    "- record our results in a dataframe"
   ]
  },
  {
   "cell_type": "markdown",
   "id": "f8e0c484-2f8a-453a-88fe-e086802998e0",
   "metadata": {},
   "source": [
    "<em>Please note, for further information on using the haversine module, consult the [documentation](https://pypi.org/project/haversine/)"
   ]
  },
  {
   "cell_type": "markdown",
   "id": "8f7475d3-bf41-49fc-9332-7c2405ebc547",
   "metadata": {},
   "source": [
    "1 - create a function for calculating the distance between Point A and Point B"
   ]
  },
  {
   "cell_type": "code",
   "execution_count": 9,
   "id": "dee0c05f-dfc4-401b-8dca-7fa9f9bfddba",
   "metadata": {
    "tags": []
   },
   "outputs": [],
   "source": [
    "def calc_distance(lat1, lon1, lat2, lon2):\n",
    "    \n",
    "    # specify data for location one, i.e. Point A\n",
    "    loc1 = (lat1, lon1)\n",
    "    \n",
    "    # specify the data for location two, i.e. Point B\n",
    "    loc2 = (lat2, lon2)\n",
    "    \n",
    "    # calculate the distance and specify the units as miles\n",
    "    dist = haversine(loc1, loc2, unit=Unit.MILES)\n",
    "    \n",
    "    return dist"
   ]
  },
  {
   "cell_type": "markdown",
   "id": "6278b0dd-2b61-4f60-99ee-f5fad6c59733",
   "metadata": {},
   "source": [
    "2 - create a loop that calculates the distance between Point A and every row in Point B, and match the result where Point B is nearest to Point A"
   ]
  },
  {
   "cell_type": "code",
   "execution_count": 10,
   "id": "a74f99a9-717e-40e8-aff7-c789e6233e2e",
   "metadata": {
    "tags": []
   },
   "outputs": [],
   "source": [
    "# create an empty dictionary to store the results\n",
    "results = {}\n",
    "\n",
    "# begin with looping over the dataset containing the data for Point A\n",
    "for index1, row1 in charities_output.iterrows():\n",
    "    \n",
    "    # specify the location of our data\n",
    "    charity_name = row1['Charity Name']\n",
    "    lat1 = row1['Latitude']\n",
    "    lon1 = row1['Longitude']\n",
    "    \n",
    "    # track the minimum distance between Point A and every row of Point B\n",
    "    min_dist = float('inf')\n",
    "    # as the minimum distance i.e. nearest Point B is not yet known, create an empty string for storage\n",
    "    min_station = ''\n",
    "    \n",
    "    # loop over the dataset containing the data for Point B\n",
    "    for index2, row2 in stations.iterrows():\n",
    "        \n",
    "        # specify the location of our data\n",
    "        lat2 = row2['Station Latitude']\n",
    "        lon2 = row2['Station Longitude']\n",
    "        \n",
    "        # use our previously created distance function to calculate the distance\n",
    "        dist = calc_distance(lat1, lon1, lat2, lon2)\n",
    "        \n",
    "        # check each distance - if it is lower than the last, this is the new low. this will repeat until the lowest distance is found\n",
    "        if dist < min_dist:\n",
    "            min_dist = dist\n",
    "            min_station = row2['Station Name']\n",
    "    \n",
    "    results[charity_name] = {'Nearest Station': min_station, 'Distance (Miles)': min_dist}\n",
    "\n",
    "# convert the results dictionary into a dataframe\n",
    "res = pd.DataFrame.from_dict(results, orient=\"index\")"
   ]
  },
  {
   "cell_type": "code",
   "execution_count": 11,
   "id": "1f54fbc3-bea5-4365-ba2e-8147aefff65e",
   "metadata": {
    "tags": []
   },
   "outputs": [
    {
     "data": {
      "text/html": [
       "<div>\n",
       "<style scoped>\n",
       "    .dataframe tbody tr th:only-of-type {\n",
       "        vertical-align: middle;\n",
       "    }\n",
       "\n",
       "    .dataframe tbody tr th {\n",
       "        vertical-align: top;\n",
       "    }\n",
       "\n",
       "    .dataframe thead th {\n",
       "        text-align: right;\n",
       "    }\n",
       "</style>\n",
       "<table border=\"1\" class=\"dataframe\">\n",
       "  <thead>\n",
       "    <tr style=\"text-align: right;\">\n",
       "      <th></th>\n",
       "      <th>Nearest Station</th>\n",
       "      <th>Distance (Miles)</th>\n",
       "    </tr>\n",
       "  </thead>\n",
       "  <tbody>\n",
       "    <tr>\n",
       "      <th>THE 29TH MAY 1961 CHARITY</th>\n",
       "      <td>Coventry Rail Station</td>\n",
       "      <td>2.942338</td>\n",
       "    </tr>\n",
       "    <tr>\n",
       "      <th>DORSET WILDLIFE TRUST</th>\n",
       "      <td>Dorchester West Rail Station</td>\n",
       "      <td>3.388657</td>\n",
       "    </tr>\n",
       "    <tr>\n",
       "      <th>MEATH EPILEPSY CHARITY</th>\n",
       "      <td>Godalming Rail Station</td>\n",
       "      <td>0.195092</td>\n",
       "    </tr>\n",
       "    <tr>\n",
       "      <th>THE RICHMOND FELLOWSHIP</th>\n",
       "      <td>Drayton Park Rail Station</td>\n",
       "      <td>0.241239</td>\n",
       "    </tr>\n",
       "    <tr>\n",
       "      <th>THE ABBEYFIELD SOCIETY</th>\n",
       "      <td>Solihull Rail Station</td>\n",
       "      <td>0.927037</td>\n",
       "    </tr>\n",
       "  </tbody>\n",
       "</table>\n",
       "</div>"
      ],
      "text/plain": [
       "                                        Nearest Station  Distance (Miles)\n",
       "THE 29TH MAY 1961 CHARITY         Coventry Rail Station          2.942338\n",
       "DORSET WILDLIFE TRUST      Dorchester West Rail Station          3.388657\n",
       "MEATH EPILEPSY CHARITY           Godalming Rail Station          0.195092\n",
       "THE RICHMOND FELLOWSHIP       Drayton Park Rail Station          0.241239\n",
       "THE ABBEYFIELD SOCIETY            Solihull Rail Station          0.927037"
      ]
     },
     "execution_count": 11,
     "metadata": {},
     "output_type": "execute_result"
    }
   ],
   "source": [
    "res.head()"
   ]
  },
  {
   "cell_type": "markdown",
   "id": "612b4e2e-57fe-4f4e-bee3-394589c561dd",
   "metadata": {},
   "source": [
    "3 - merge our new information with our charities_output dataframe"
   ]
  },
  {
   "cell_type": "code",
   "execution_count": 12,
   "id": "73cbada0-8e59-43c4-b358-485a06b9f847",
   "metadata": {
    "tags": []
   },
   "outputs": [],
   "source": [
    "# as our dataframe output has used our charities as an index, we need to re-add it as a column\n",
    "res['Charity Name'] = res.index"
   ]
  },
  {
   "cell_type": "code",
   "execution_count": 13,
   "id": "41e026a6-c103-448c-833c-677aa1208984",
   "metadata": {
    "tags": []
   },
   "outputs": [],
   "source": [
    "# merging with our existing output dataframe\n",
    "charities_output = charities_output.merge(res, on=\"Charity Name\")"
   ]
  },
  {
   "cell_type": "code",
   "execution_count": 14,
   "id": "a97776a5-5a50-4cc8-b80c-b2569bafef18",
   "metadata": {
    "tags": []
   },
   "outputs": [
    {
     "data": {
      "text/html": [
       "<div>\n",
       "<style scoped>\n",
       "    .dataframe tbody tr th:only-of-type {\n",
       "        vertical-align: middle;\n",
       "    }\n",
       "\n",
       "    .dataframe tbody tr th {\n",
       "        vertical-align: top;\n",
       "    }\n",
       "\n",
       "    .dataframe thead th {\n",
       "        text-align: right;\n",
       "    }\n",
       "</style>\n",
       "<table border=\"1\" class=\"dataframe\">\n",
       "  <thead>\n",
       "    <tr style=\"text-align: right;\">\n",
       "      <th></th>\n",
       "      <th>Charity Number</th>\n",
       "      <th>Charity Name</th>\n",
       "      <th>Charity Postcode</th>\n",
       "      <th>Latitude</th>\n",
       "      <th>Longitude</th>\n",
       "      <th>Nearest Station</th>\n",
       "      <th>Distance (Miles)</th>\n",
       "    </tr>\n",
       "  </thead>\n",
       "  <tbody>\n",
       "    <tr>\n",
       "      <th>0</th>\n",
       "      <td>200198</td>\n",
       "      <td>THE 29TH MAY 1961 CHARITY</td>\n",
       "      <td>CV3 2UB</td>\n",
       "      <td>52.402150</td>\n",
       "      <td>-1.443687</td>\n",
       "      <td>Coventry Rail Station</td>\n",
       "      <td>2.942338</td>\n",
       "    </tr>\n",
       "    <tr>\n",
       "      <th>1</th>\n",
       "      <td>200222</td>\n",
       "      <td>DORSET WILDLIFE TRUST</td>\n",
       "      <td>DT2 7AA</td>\n",
       "      <td>50.755335</td>\n",
       "      <td>-2.475479</td>\n",
       "      <td>Dorchester West Rail Station</td>\n",
       "      <td>3.388657</td>\n",
       "    </tr>\n",
       "    <tr>\n",
       "      <th>2</th>\n",
       "      <td>200359</td>\n",
       "      <td>MEATH EPILEPSY CHARITY</td>\n",
       "      <td>GU7 2QH</td>\n",
       "      <td>51.188131</td>\n",
       "      <td>-0.622608</td>\n",
       "      <td>Godalming Rail Station</td>\n",
       "      <td>0.195092</td>\n",
       "    </tr>\n",
       "    <tr>\n",
       "      <th>3</th>\n",
       "      <td>200453</td>\n",
       "      <td>THE RICHMOND FELLOWSHIP</td>\n",
       "      <td>N7 8JG</td>\n",
       "      <td>51.549665</td>\n",
       "      <td>-0.108049</td>\n",
       "      <td>Drayton Park Rail Station</td>\n",
       "      <td>0.241239</td>\n",
       "    </tr>\n",
       "    <tr>\n",
       "      <th>4</th>\n",
       "      <td>200719</td>\n",
       "      <td>THE ABBEYFIELD SOCIETY</td>\n",
       "      <td>B91 2QJ</td>\n",
       "      <td>52.416236</td>\n",
       "      <td>-1.766592</td>\n",
       "      <td>Solihull Rail Station</td>\n",
       "      <td>0.927037</td>\n",
       "    </tr>\n",
       "  </tbody>\n",
       "</table>\n",
       "</div>"
      ],
      "text/plain": [
       "   Charity Number               Charity Name Charity Postcode   Latitude  \\\n",
       "0          200198  THE 29TH MAY 1961 CHARITY          CV3 2UB  52.402150   \n",
       "1          200222      DORSET WILDLIFE TRUST          DT2 7AA  50.755335   \n",
       "2          200359     MEATH EPILEPSY CHARITY          GU7 2QH  51.188131   \n",
       "3          200453    THE RICHMOND FELLOWSHIP           N7 8JG  51.549665   \n",
       "4          200719     THE ABBEYFIELD SOCIETY          B91 2QJ  52.416236   \n",
       "\n",
       "   Longitude               Nearest Station  Distance (Miles)  \n",
       "0  -1.443687         Coventry Rail Station          2.942338  \n",
       "1  -2.475479  Dorchester West Rail Station          3.388657  \n",
       "2  -0.622608        Godalming Rail Station          0.195092  \n",
       "3  -0.108049     Drayton Park Rail Station          0.241239  \n",
       "4  -1.766592         Solihull Rail Station          0.927037  "
      ]
     },
     "execution_count": 14,
     "metadata": {},
     "output_type": "execute_result"
    }
   ],
   "source": [
    "charities_output.head()"
   ]
  },
  {
   "cell_type": "markdown",
   "id": "d232e52c-1aff-41cd-86a3-fb3c0c5a09e7",
   "metadata": {},
   "source": [
    "<b>Step 2 Complete</b>"
   ]
  },
  {
   "cell_type": "markdown",
   "id": "e60a5681-bc24-412b-a828-7462ac304fbc",
   "metadata": {},
   "source": [
    "We now have all our information in one place, charities_output, containing:\n",
    "- Our charity information\n",
    "- The nearest station to each charity\n",
    "- The distance in miles "
   ]
  },
  {
   "cell_type": "markdown",
   "id": "4e766b13-c8dd-4924-baf1-c55d592b5b98",
   "metadata": {},
   "source": [
    "<h2>Step 3 - Calculate the driving time for travel</h2>"
   ]
  },
  {
   "cell_type": "markdown",
   "id": "ea5c8f55-3bfa-47aa-ae8c-89069d8ef3f5",
   "metadata": {},
   "source": [
    "Our final step uses Project OSRM to find the driving distance between each of our charities and its nearest station. This is helpful as miles are not always an accurate descriptor of distance, where, for example, in a city like London, a 1 mile journey might take as long as a 5 mile journey in a rural area."
   ]
  },
  {
   "cell_type": "markdown",
   "id": "ddce6ee3-25e3-47c4-a2c8-bcb520d4dc82",
   "metadata": {},
   "source": [
    "To prepare for this step, we must have one dataframe containing the following information:\n",
    "- charity information: name, longitude, latitude, nearest station, distance in miles\n",
    "- station information: name, longtiude, latitude"
   ]
  },
  {
   "cell_type": "markdown",
   "id": "ebf61b83-c4aa-4642-9dce-71710d5282f5",
   "metadata": {},
   "source": [
    "1 - create a dataframe with the above information"
   ]
  },
  {
   "cell_type": "code",
   "execution_count": 15,
   "id": "3446ae88-e8de-48e7-8680-ce0190860605",
   "metadata": {
    "tags": []
   },
   "outputs": [],
   "source": [
    "drive_time_df = pd.merge(charities_output, stations, left_on='Nearest Station', right_on='Station Name')\n",
    "drive_time_df = drive_time_df.drop(columns=['Station Name'])"
   ]
  },
  {
   "cell_type": "code",
   "execution_count": 16,
   "id": "4890f912-e9c2-4989-a487-e2167395aff0",
   "metadata": {
    "tags": []
   },
   "outputs": [
    {
     "data": {
      "text/html": [
       "<div>\n",
       "<style scoped>\n",
       "    .dataframe tbody tr th:only-of-type {\n",
       "        vertical-align: middle;\n",
       "    }\n",
       "\n",
       "    .dataframe tbody tr th {\n",
       "        vertical-align: top;\n",
       "    }\n",
       "\n",
       "    .dataframe thead th {\n",
       "        text-align: right;\n",
       "    }\n",
       "</style>\n",
       "<table border=\"1\" class=\"dataframe\">\n",
       "  <thead>\n",
       "    <tr style=\"text-align: right;\">\n",
       "      <th></th>\n",
       "      <th>Charity Number</th>\n",
       "      <th>Charity Name</th>\n",
       "      <th>Charity Postcode</th>\n",
       "      <th>Latitude</th>\n",
       "      <th>Longitude</th>\n",
       "      <th>Nearest Station</th>\n",
       "      <th>Distance (Miles)</th>\n",
       "      <th>Station Latitude</th>\n",
       "      <th>Station Longitude</th>\n",
       "    </tr>\n",
       "  </thead>\n",
       "  <tbody>\n",
       "    <tr>\n",
       "      <th>0</th>\n",
       "      <td>200198</td>\n",
       "      <td>THE 29TH MAY 1961 CHARITY</td>\n",
       "      <td>CV3 2UB</td>\n",
       "      <td>52.402150</td>\n",
       "      <td>-1.443687</td>\n",
       "      <td>Coventry Rail Station</td>\n",
       "      <td>2.942338</td>\n",
       "      <td>52.400828</td>\n",
       "      <td>-1.513450</td>\n",
       "    </tr>\n",
       "    <tr>\n",
       "      <th>1</th>\n",
       "      <td>209200</td>\n",
       "      <td>THE WARWICKSHIRE WILDLIFE TRUST LIMITED</td>\n",
       "      <td>CV3 3GW</td>\n",
       "      <td>52.380209</td>\n",
       "      <td>-1.442822</td>\n",
       "      <td>Coventry Rail Station</td>\n",
       "      <td>3.301349</td>\n",
       "      <td>52.400828</td>\n",
       "      <td>-1.513450</td>\n",
       "    </tr>\n",
       "    <tr>\n",
       "      <th>2</th>\n",
       "      <td>200222</td>\n",
       "      <td>DORSET WILDLIFE TRUST</td>\n",
       "      <td>DT2 7AA</td>\n",
       "      <td>50.755335</td>\n",
       "      <td>-2.475479</td>\n",
       "      <td>Dorchester West Rail Station</td>\n",
       "      <td>3.388657</td>\n",
       "      <td>50.710942</td>\n",
       "      <td>-2.442539</td>\n",
       "    </tr>\n",
       "    <tr>\n",
       "      <th>3</th>\n",
       "      <td>200359</td>\n",
       "      <td>MEATH EPILEPSY CHARITY</td>\n",
       "      <td>GU7 2QH</td>\n",
       "      <td>51.188131</td>\n",
       "      <td>-0.622608</td>\n",
       "      <td>Godalming Rail Station</td>\n",
       "      <td>0.195092</td>\n",
       "      <td>51.186581</td>\n",
       "      <td>-0.618842</td>\n",
       "    </tr>\n",
       "    <tr>\n",
       "      <th>4</th>\n",
       "      <td>200453</td>\n",
       "      <td>THE RICHMOND FELLOWSHIP</td>\n",
       "      <td>N7 8JG</td>\n",
       "      <td>51.549665</td>\n",
       "      <td>-0.108049</td>\n",
       "      <td>Drayton Park Rail Station</td>\n",
       "      <td>0.241239</td>\n",
       "      <td>51.552771</td>\n",
       "      <td>-0.105483</td>\n",
       "    </tr>\n",
       "  </tbody>\n",
       "</table>\n",
       "</div>"
      ],
      "text/plain": [
       "   Charity Number                             Charity Name Charity Postcode  \\\n",
       "0          200198                THE 29TH MAY 1961 CHARITY          CV3 2UB   \n",
       "1          209200  THE WARWICKSHIRE WILDLIFE TRUST LIMITED          CV3 3GW   \n",
       "2          200222                    DORSET WILDLIFE TRUST          DT2 7AA   \n",
       "3          200359                   MEATH EPILEPSY CHARITY          GU7 2QH   \n",
       "4          200453                  THE RICHMOND FELLOWSHIP           N7 8JG   \n",
       "\n",
       "    Latitude  Longitude               Nearest Station  Distance (Miles)  \\\n",
       "0  52.402150  -1.443687         Coventry Rail Station          2.942338   \n",
       "1  52.380209  -1.442822         Coventry Rail Station          3.301349   \n",
       "2  50.755335  -2.475479  Dorchester West Rail Station          3.388657   \n",
       "3  51.188131  -0.622608        Godalming Rail Station          0.195092   \n",
       "4  51.549665  -0.108049     Drayton Park Rail Station          0.241239   \n",
       "\n",
       "   Station Latitude  Station Longitude  \n",
       "0         52.400828          -1.513450  \n",
       "1         52.400828          -1.513450  \n",
       "2         50.710942          -2.442539  \n",
       "3         51.186581          -0.618842  \n",
       "4         51.552771          -0.105483  "
      ]
     },
     "execution_count": 16,
     "metadata": {},
     "output_type": "execute_result"
    }
   ],
   "source": [
    "drive_time_df.head()"
   ]
  },
  {
   "cell_type": "markdown",
   "id": "6db5efb5-c213-450a-bd2d-68d8d85b675d",
   "metadata": {},
   "source": [
    "2 - now that our dataframe is ready, we can set up our function for calculating drive time using Project OSRM\n",
    "<br><br>\n",
    "<em>please note: for further information, consult the [documentation](https://project-osrm.org/docs/v5.24.0/api/#trip-service)</em>"
   ]
  },
  {
   "cell_type": "code",
   "execution_count": 17,
   "id": "d4826762-5d8a-416c-845c-44facc7f1d2b",
   "metadata": {
    "tags": []
   },
   "outputs": [],
   "source": [
    "url = \"http://router.project-osrm.org/route/v1/driving/{lon1},{lat1};{lon2},{lat2}\"\n",
    "\n",
    "# function \n",
    "\n",
    "def calc_driveTime(row):\n",
    "    \n",
    "    # extract lat and lon\n",
    "    lat1, lon1 = row['Latitude'], row['Longitude']\n",
    "    lat2, lon2 = row['Station Latitude'], row['Station Longitude']\n",
    "    \n",
    "    # request\n",
    "    response = requests.get(url.format(lat1=lat1, lon1=lon1, lat2=lat2, lon2=lon2))\n",
    "    \n",
    "    # parse response\n",
    "    data = json.loads(response.content)\n",
    "    \n",
    "    # drive time in seconds\n",
    "    drive_time_sec = data[\"routes\"][0][\"duration\"]\n",
    "    \n",
    "    # convert to minutes\n",
    "    drive_time = round((drive_time_sec) / 60, 0)\n",
    "    \n",
    "    return drive_time"
   ]
  },
  {
   "cell_type": "markdown",
   "id": "b9dc45ad-4aca-41fc-8448-6dcff89b1185",
   "metadata": {},
   "source": [
    "3 - pass our data into our new function to calculate driving time in minutes"
   ]
  },
  {
   "cell_type": "code",
   "execution_count": 18,
   "id": "7463c7b7-156b-406b-b1c0-96708430ad92",
   "metadata": {
    "tags": []
   },
   "outputs": [],
   "source": [
    "# apply the above function to our dataframe\n",
    "driving_time_res = drive_time_df.apply(calc_driveTime, axis=1)"
   ]
  },
  {
   "cell_type": "code",
   "execution_count": 19,
   "id": "eafd2b7a-c20c-42ff-8a88-10a4fd989728",
   "metadata": {
    "tags": []
   },
   "outputs": [],
   "source": [
    "# add dataframe results as a new column\n",
    "drive_time_df['Driving Time (Minutes)'] = driving_time_res"
   ]
  },
  {
   "cell_type": "code",
   "execution_count": 20,
   "id": "acdceec6-9055-4b16-aaf3-04c1b38ce0f7",
   "metadata": {
    "tags": []
   },
   "outputs": [
    {
     "data": {
      "text/html": [
       "<div>\n",
       "<style scoped>\n",
       "    .dataframe tbody tr th:only-of-type {\n",
       "        vertical-align: middle;\n",
       "    }\n",
       "\n",
       "    .dataframe tbody tr th {\n",
       "        vertical-align: top;\n",
       "    }\n",
       "\n",
       "    .dataframe thead th {\n",
       "        text-align: right;\n",
       "    }\n",
       "</style>\n",
       "<table border=\"1\" class=\"dataframe\">\n",
       "  <thead>\n",
       "    <tr style=\"text-align: right;\">\n",
       "      <th></th>\n",
       "      <th>Charity Number</th>\n",
       "      <th>Charity Name</th>\n",
       "      <th>Charity Postcode</th>\n",
       "      <th>Latitude</th>\n",
       "      <th>Longitude</th>\n",
       "      <th>Nearest Station</th>\n",
       "      <th>Distance (Miles)</th>\n",
       "      <th>Station Latitude</th>\n",
       "      <th>Station Longitude</th>\n",
       "      <th>Driving Time (Minutes)</th>\n",
       "    </tr>\n",
       "  </thead>\n",
       "  <tbody>\n",
       "    <tr>\n",
       "      <th>0</th>\n",
       "      <td>200198</td>\n",
       "      <td>THE 29TH MAY 1961 CHARITY</td>\n",
       "      <td>CV3 2UB</td>\n",
       "      <td>52.402150</td>\n",
       "      <td>-1.443687</td>\n",
       "      <td>Coventry Rail Station</td>\n",
       "      <td>2.942338</td>\n",
       "      <td>52.400828</td>\n",
       "      <td>-1.513450</td>\n",
       "      <td>11.0</td>\n",
       "    </tr>\n",
       "    <tr>\n",
       "      <th>1</th>\n",
       "      <td>209200</td>\n",
       "      <td>THE WARWICKSHIRE WILDLIFE TRUST LIMITED</td>\n",
       "      <td>CV3 3GW</td>\n",
       "      <td>52.380209</td>\n",
       "      <td>-1.442822</td>\n",
       "      <td>Coventry Rail Station</td>\n",
       "      <td>3.301349</td>\n",
       "      <td>52.400828</td>\n",
       "      <td>-1.513450</td>\n",
       "      <td>14.0</td>\n",
       "    </tr>\n",
       "    <tr>\n",
       "      <th>2</th>\n",
       "      <td>200222</td>\n",
       "      <td>DORSET WILDLIFE TRUST</td>\n",
       "      <td>DT2 7AA</td>\n",
       "      <td>50.755335</td>\n",
       "      <td>-2.475479</td>\n",
       "      <td>Dorchester West Rail Station</td>\n",
       "      <td>3.388657</td>\n",
       "      <td>50.710942</td>\n",
       "      <td>-2.442539</td>\n",
       "      <td>7.0</td>\n",
       "    </tr>\n",
       "    <tr>\n",
       "      <th>3</th>\n",
       "      <td>200359</td>\n",
       "      <td>MEATH EPILEPSY CHARITY</td>\n",
       "      <td>GU7 2QH</td>\n",
       "      <td>51.188131</td>\n",
       "      <td>-0.622608</td>\n",
       "      <td>Godalming Rail Station</td>\n",
       "      <td>0.195092</td>\n",
       "      <td>51.186581</td>\n",
       "      <td>-0.618842</td>\n",
       "      <td>2.0</td>\n",
       "    </tr>\n",
       "    <tr>\n",
       "      <th>4</th>\n",
       "      <td>200453</td>\n",
       "      <td>THE RICHMOND FELLOWSHIP</td>\n",
       "      <td>N7 8JG</td>\n",
       "      <td>51.549665</td>\n",
       "      <td>-0.108049</td>\n",
       "      <td>Drayton Park Rail Station</td>\n",
       "      <td>0.241239</td>\n",
       "      <td>51.552771</td>\n",
       "      <td>-0.105483</td>\n",
       "      <td>1.0</td>\n",
       "    </tr>\n",
       "  </tbody>\n",
       "</table>\n",
       "</div>"
      ],
      "text/plain": [
       "   Charity Number                             Charity Name Charity Postcode  \\\n",
       "0          200198                THE 29TH MAY 1961 CHARITY          CV3 2UB   \n",
       "1          209200  THE WARWICKSHIRE WILDLIFE TRUST LIMITED          CV3 3GW   \n",
       "2          200222                    DORSET WILDLIFE TRUST          DT2 7AA   \n",
       "3          200359                   MEATH EPILEPSY CHARITY          GU7 2QH   \n",
       "4          200453                  THE RICHMOND FELLOWSHIP           N7 8JG   \n",
       "\n",
       "    Latitude  Longitude               Nearest Station  Distance (Miles)  \\\n",
       "0  52.402150  -1.443687         Coventry Rail Station          2.942338   \n",
       "1  52.380209  -1.442822         Coventry Rail Station          3.301349   \n",
       "2  50.755335  -2.475479  Dorchester West Rail Station          3.388657   \n",
       "3  51.188131  -0.622608        Godalming Rail Station          0.195092   \n",
       "4  51.549665  -0.108049     Drayton Park Rail Station          0.241239   \n",
       "\n",
       "   Station Latitude  Station Longitude  Driving Time (Minutes)  \n",
       "0         52.400828          -1.513450                    11.0  \n",
       "1         52.400828          -1.513450                    14.0  \n",
       "2         50.710942          -2.442539                     7.0  \n",
       "3         51.186581          -0.618842                     2.0  \n",
       "4         51.552771          -0.105483                     1.0  "
      ]
     },
     "execution_count": 20,
     "metadata": {},
     "output_type": "execute_result"
    }
   ],
   "source": [
    "drive_time_df.head()"
   ]
  },
  {
   "cell_type": "markdown",
   "id": "adbf25de-5b11-4d00-8f02-9e77bb248a42",
   "metadata": {},
   "source": [
    "<b>Step 4 Complete</b>"
   ]
  },
  {
   "cell_type": "markdown",
   "id": "53f44ed1-4a5b-4aac-9808-6d312f1c1204",
   "metadata": {},
   "source": [
    "We now have all our desired information in one compact dataframe. For layout purposes, and depending on what we want to do next with our data, we can create one final dataframe as output, containing the following information:\n",
    "- Charity Name\n",
    "- Nearest Station\n",
    "- Distance (Miles)\n",
    "- Driving Time (Minutes)"
   ]
  },
  {
   "cell_type": "code",
   "execution_count": 21,
   "id": "279aed32-ae27-418b-8b1c-9128957c8b4a",
   "metadata": {
    "tags": []
   },
   "outputs": [],
   "source": [
    "final_output = drive_time_df.drop(columns=['Charity Number', 'Charity Postcode', 'Latitude', 'Longitude', 'Station Latitude', 'Station Longitude'])"
   ]
  },
  {
   "cell_type": "code",
   "execution_count": 22,
   "id": "792fa94d-989d-461f-9d2d-4d9a891c21e5",
   "metadata": {
    "tags": []
   },
   "outputs": [
    {
     "data": {
      "text/html": [
       "<div>\n",
       "<style scoped>\n",
       "    .dataframe tbody tr th:only-of-type {\n",
       "        vertical-align: middle;\n",
       "    }\n",
       "\n",
       "    .dataframe tbody tr th {\n",
       "        vertical-align: top;\n",
       "    }\n",
       "\n",
       "    .dataframe thead th {\n",
       "        text-align: right;\n",
       "    }\n",
       "</style>\n",
       "<table border=\"1\" class=\"dataframe\">\n",
       "  <thead>\n",
       "    <tr style=\"text-align: right;\">\n",
       "      <th></th>\n",
       "      <th>Charity Name</th>\n",
       "      <th>Nearest Station</th>\n",
       "      <th>Distance (Miles)</th>\n",
       "      <th>Driving Time (Minutes)</th>\n",
       "    </tr>\n",
       "  </thead>\n",
       "  <tbody>\n",
       "    <tr>\n",
       "      <th>0</th>\n",
       "      <td>THE 29TH MAY 1961 CHARITY</td>\n",
       "      <td>Coventry Rail Station</td>\n",
       "      <td>2.942338</td>\n",
       "      <td>11.0</td>\n",
       "    </tr>\n",
       "    <tr>\n",
       "      <th>1</th>\n",
       "      <td>THE WARWICKSHIRE WILDLIFE TRUST LIMITED</td>\n",
       "      <td>Coventry Rail Station</td>\n",
       "      <td>3.301349</td>\n",
       "      <td>14.0</td>\n",
       "    </tr>\n",
       "    <tr>\n",
       "      <th>2</th>\n",
       "      <td>DORSET WILDLIFE TRUST</td>\n",
       "      <td>Dorchester West Rail Station</td>\n",
       "      <td>3.388657</td>\n",
       "      <td>7.0</td>\n",
       "    </tr>\n",
       "    <tr>\n",
       "      <th>3</th>\n",
       "      <td>MEATH EPILEPSY CHARITY</td>\n",
       "      <td>Godalming Rail Station</td>\n",
       "      <td>0.195092</td>\n",
       "      <td>2.0</td>\n",
       "    </tr>\n",
       "    <tr>\n",
       "      <th>4</th>\n",
       "      <td>THE RICHMOND FELLOWSHIP</td>\n",
       "      <td>Drayton Park Rail Station</td>\n",
       "      <td>0.241239</td>\n",
       "      <td>1.0</td>\n",
       "    </tr>\n",
       "  </tbody>\n",
       "</table>\n",
       "</div>"
      ],
      "text/plain": [
       "                              Charity Name               Nearest Station  \\\n",
       "0                THE 29TH MAY 1961 CHARITY         Coventry Rail Station   \n",
       "1  THE WARWICKSHIRE WILDLIFE TRUST LIMITED         Coventry Rail Station   \n",
       "2                    DORSET WILDLIFE TRUST  Dorchester West Rail Station   \n",
       "3                   MEATH EPILEPSY CHARITY        Godalming Rail Station   \n",
       "4                  THE RICHMOND FELLOWSHIP     Drayton Park Rail Station   \n",
       "\n",
       "   Distance (Miles)  Driving Time (Minutes)  \n",
       "0          2.942338                    11.0  \n",
       "1          3.301349                    14.0  \n",
       "2          3.388657                     7.0  \n",
       "3          0.195092                     2.0  \n",
       "4          0.241239                     1.0  "
      ]
     },
     "execution_count": 22,
     "metadata": {},
     "output_type": "execute_result"
    }
   ],
   "source": [
    "final_output.head()"
   ]
  }
 ],
 "metadata": {
  "kernelspec": {
   "display_name": "Python 3 (ipykernel)",
   "language": "python",
   "name": "python3"
  },
  "language_info": {
   "codemirror_mode": {
    "name": "ipython",
    "version": 3
   },
   "file_extension": ".py",
   "mimetype": "text/x-python",
   "name": "python",
   "nbconvert_exporter": "python",
   "pygments_lexer": "ipython3",
   "version": "3.9.16"
  }
 },
 "nbformat": 4,
 "nbformat_minor": 5
}
